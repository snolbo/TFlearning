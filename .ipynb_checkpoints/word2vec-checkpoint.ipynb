{
 "cells": [
  {
   "cell_type": "code",
   "execution_count": 1,
   "metadata": {
    "collapsed": true
   },
   "outputs": [],
   "source": [
    "import collections\n",
    "import math\n",
    "import os\n",
    "import random\n",
    "from tempfile import gettempdir\n",
    "import zipfile\n",
    "\n",
    "import numpy as np\n",
    "from six.moves import urllib\n",
    "from six.moves import xrange  # pylint: disable=redefined-builtin\n",
    "import tensorflow as tf"
   ]
  },
  {
   "cell_type": "code",
   "execution_count": 6,
   "metadata": {},
   "outputs": [
    {
     "name": "stdout",
     "output_type": "stream",
     "text": [
      "Found and verified text8.zip\n"
     ]
    }
   ],
   "source": [
    "#1  Donwload dataset\n",
    "url = 'http://mattmahoney.net/dc/'\n",
    "\n",
    "# pylint: disable=redefined-outer-name\n",
    "def maybe_download(filename, expected_bytes):\n",
    "    \"\"\"Download a file if not present, and make sure it's the right size.\"\"\"\n",
    "    local_filename = os.path.join(gettempdir(), filename)\n",
    "    if not os.path.exists(local_filename):\n",
    "        local_filename, _ = urllib.request.urlretrieve(url + filename,\n",
    "                                                   local_filename)\n",
    "    statinfo = os.stat(local_filename)\n",
    "    if statinfo.st_size == expected_bytes:\n",
    "        print('Found and verified', filename)\n",
    "    else:\n",
    "        print(statinfo.st_size)\n",
    "        raise Exception('Failed to verify ' + local_filename +\n",
    "                    '. Can you get to it with a browser?')\n",
    "    return local_filename\n",
    "\n",
    "\n",
    "filename = maybe_download('text8.zip', 31344016)"
   ]
  },
  {
   "cell_type": "code",
   "execution_count": 17,
   "metadata": {},
   "outputs": [
    {
     "name": "stdout",
     "output_type": "stream",
     "text": [
      "Data size 17005207\n"
     ]
    }
   ],
   "source": [
    "# read dato to list of strings:\n",
    "def read_data(filename):\n",
    "    with zipfile.ZipFile(filename) as f:\n",
    "        data = tf.compat.as_str(f.read(f.namelist()[0])).split()\n",
    "    return data\n",
    "\n",
    "vocabulary = read_data(filename)\n",
    "print(\"Data size\", len(vocabulary))"
   ]
  },
  {
   "cell_type": "code",
   "execution_count": 18,
   "metadata": {},
   "outputs": [
    {
     "name": "stdout",
     "output_type": "stream",
     "text": [
      "most common words (+UNK) [['UNK', 418391], ('the', 1061396), ('of', 593677), ('and', 416629), ('one', 411764)]\n",
      "sample data [5234, 3081, 12, 6, 195, 2, 3134, 46, 59, 156] ['anarchism', 'originated', 'as', 'a', 'term', 'of', 'abuse', 'first', 'used', 'against']\n"
     ]
    }
   ],
   "source": [
    "# 2 build dictionary and replace rare works with UNK token\n",
    "vocabulary_size = 50000\n",
    "\n",
    "def build_dataset(words, n_words):\n",
    "    count = [[\"UNK\", -1]]\n",
    "    count.extend(collections.Counter(words).most_common(n_words -1))\n",
    "    dictionary = dict()\n",
    "    for word, _ in count:\n",
    "        dictionary[word] = len(dictionary)\n",
    "    data = list()\n",
    "    unk_count = 0\n",
    "    for word in words:\n",
    "        index = dictionary.get(word, 0)\n",
    "        if index == 0:\n",
    "            unk_count += 1\n",
    "        data.append(index)\n",
    "    count[0][1] = unk_count\n",
    "    reversed_dictionary = dict(zip(dictionary.values(), dictionary.keys()))\n",
    "    return data, count, dictionary, reversed_dictionary\n",
    "\n",
    "data, count, dictionary, reverse_dictionary = build_dataset(vocabulary, vocabulary_size)\n",
    "\n",
    "del vocabulary\n",
    "print(\"most common words (+UNK)\", count[:5])\n",
    "print(\"sample data\", data[:10], [reverse_dictionary[i] for i in data[:10]])\n",
    "\n",
    "data_index = 0"
   ]
  },
  {
   "cell_type": "code",
   "execution_count": 19,
   "metadata": {},
   "outputs": [
    {
     "name": "stdout",
     "output_type": "stream",
     "text": [
      "3081 originated -> 12 as\n",
      "12 as -> 3081 originated\n",
      "6 a -> 12 as\n",
      "195 term -> 2 of\n",
      "2 of -> 3134 abuse\n",
      "3134 abuse -> 2 of\n",
      "46 first -> 59 used\n",
      "59 used -> 46 first\n"
     ]
    }
   ],
   "source": [
    "# step 3, generate training batch for skip-gram model:\n",
    "# Step 3: Function to generate a training batch for the skip-gram model.\n",
    "def generate_batch(batch_size, num_skips, skip_window):\n",
    "    global data_index\n",
    "    assert batch_size % num_skips == 0\n",
    "    assert num_skips <= 2 * skip_window\n",
    "    batch = np.ndarray(shape=(batch_size), dtype=np.int32)\n",
    "    labels = np.ndarray(shape=(batch_size, 1), dtype=np.int32)\n",
    "    span = 2 * skip_window + 1  # [ skip_window target skip_window ]\n",
    "    buffer = collections.deque(maxlen=span)\n",
    "    if data_index + span > len(data):\n",
    "        data_index = 0\n",
    "    buffer.extend(data[data_index:data_index + span])\n",
    "    data_index += span\n",
    "    for i in range(batch_size // num_skips):\n",
    "        context_words = [w for w in range(span) if w != skip_window]\n",
    "        words_to_use = random.sample(context_words, num_skips)\n",
    "        for j, context_word in enumerate(words_to_use):\n",
    "            batch[i * num_skips + j] = buffer[skip_window]\n",
    "            labels[i * num_skips + j, 0] = buffer[context_word]\n",
    "            if data_index == len(data):\n",
    "                buffer[:] = data[:span]\n",
    "                data_index = span\n",
    "            else:\n",
    "                buffer.append(data[data_index])\n",
    "                data_index += 1\n",
    "    # Backtrack a little bit to avoid skipping words in the end of a batch\n",
    "    data_index = (data_index + len(data) - span) % len(data)\n",
    "    return batch, labels\n",
    "\n",
    "batch, labels = generate_batch(batch_size=8, num_skips=2, skip_window=1)\n",
    "for i in range(8):\n",
    "    print(batch[i], reverse_dictionary[batch[i]],\n",
    "        '->', labels[i, 0], reverse_dictionary[labels[i, 0]])"
   ]
  },
  {
   "cell_type": "code",
   "execution_count": 31,
   "metadata": {},
   "outputs": [],
   "source": [
    "# 4 build and train skip-gram model:\n",
    "batch_size = 128\n",
    "embedding_size = 128 # dim embedding vec\n",
    "skip_window = 1 #words left and right\n",
    "num_skips = 2 # times to reuse input to generate label\n",
    "num_sampled = 64 # num negative examples to sample\n",
    "\n",
    "valid_size = 16\n",
    "valid_window = 100\n",
    "valid_examples = np.random.choice(valid_window, valid_size, replace=False)\n",
    "\n",
    "graph = tf.Graph()\n",
    "\n",
    "with graph.as_default():\n",
    "    train_inputs = tf.placeholder(tf.int32, shape=[batch_size])\n",
    "    train_labels = tf.placeholder(tf.int32, shape=[batch_size, 1])    \n",
    "    valid_dataset = tf.constant(valid_examples, dtype=tf.int32)\n",
    "    \n",
    "    with tf.device(\"/cpu:0\"):\n",
    "        embeddings = tf.Variable(tf.truncated_normal([vocabulary_size, embedding_size], -1.0, 1.0))\n",
    "        embed = tf.nn.embedding_lookup(embeddings, train_inputs)\n",
    "        \n",
    "        # NCE loss:\n",
    "        nce_weights = tf.Variable(tf.truncated_normal([vocabulary_size, embedding_size], stddev=0.1/math.sqrt(embedding_size)))\n",
    "        nce_biases = tf.Variable(tf.zeros([vocabulary_size]))\n",
    "        \n",
    "        # compute loss:\n",
    "        loss = tf.reduce_mean(tf.nn.nce_loss(weights=nce_weights, biases=nce_biases, labels=train_labels,\n",
    "                                           inputs=embed, num_sampled=num_sampled, num_classes=vocabulary_size))\n",
    "        \n",
    "        optimizer = tf.train.GradientDescentOptimizer(1.0).minimize(loss)\n",
    "        \n",
    "        norm = tf.sqrt(tf.reduce_sum(tf.square(embeddings), 1, keep_dims=True))\n",
    "        normalized_embeddings = embeddings / norm\n",
    "        valid_embeddings = tf.nn.embedding_lookup(normalized_embeddings, valid_dataset)\n",
    "        similarity = tf.matmul(valid_embeddings, normalized_embeddings, transpose_b=True)\n",
    "        \n",
    "        init = tf.global_variables_initializer()"
   ]
  },
  {
   "cell_type": "code",
   "execution_count": 38,
   "metadata": {
    "scrolled": false
   },
   "outputs": [
    {
     "name": "stdout",
     "output_type": "stream",
     "text": [
      "initialized\n",
      "Average loss at step  0 :  266.535217285\n",
      "Nearest to be: careful, irn, dunham, soga, biochemists, che, physiological, enhancements,\n",
      "Nearest to d: lebrun, sakharov, penalty, musab, etruria, stv, jams, chromosomes,\n",
      "Nearest to its: heflin, neolithic, posthuman, buchner, kangaroos, manatee, electorates, wildfire,\n",
      "Nearest to world: curie, andalusian, period, warehouses, screenwriters, aerobatic, anti, reproduction,\n",
      "Nearest to often: denounce, backstage, partaking, sarabande, enthusiastically, hardin, firstnode, experimenter,\n",
      "Nearest to it: phallus, crickets, poor, resigned, outlaws, beaver, effectiveness, informally,\n",
      "Nearest to no: sonny, priming, alcal, hitters, personage, fled, genoa, memphis,\n",
      "Nearest to other: spoofed, nucleic, aspire, splashdown, borrowers, bor, revitalized, unbearable,\n",
      "Nearest to during: mainly, ipswich, weinberger, walsingham, courts, outbound, plugboard, adjunct,\n",
      "Nearest to and: playfulness, groening, adventist, physics, clinical, carboxylic, hvac, magi,\n",
      "Nearest to or: phrases, caller, tenant, phobos, radial, greensboro, siena, equates,\n",
      "Nearest to about: shaffer, rightmost, thermometer, curd, futile, iconostasis, ear, cessation,\n",
      "Nearest to states: coyotes, sof, useable, knitted, democratization, stole, bedrock, pleasuredome,\n",
      "Nearest to is: prevails, goalscorer, lilla, account, bundy, mattathias, dimaggio, obligate,\n",
      "Nearest to the: crickets, born, copying, hitherto, resigned, carpet, pediatrics, handfasting,\n",
      "Nearest to will: tradeoff, swede, sibyl, andrey, kristeva, rance, easternmost, everybody,\n",
      "Average loss at step  2000 :  119.442683413\n",
      "Average loss at step  4000 :  56.563076025\n",
      "Average loss at step  6000 :  37.6922573352\n",
      "Average loss at step  8000 :  27.0994545758\n",
      "Average loss at step  10000 :  20.8324722145\n",
      "Nearest to be: in, is, were, it, lalor, one, physiological, bulletins,\n",
      "Nearest to d: bmx, sands, skulls, countercultural, spruce, mandaeans, cautiously, doubled,\n",
      "Nearest to its: the, a, such, all, chee, neolithic, lymphocyte, name,\n",
      "Nearest to world: and, anti, period, UNK, andalusian, remarked, sojourn, one,\n",
      "Nearest to often: made, dickey, projector, five, euros, degree, denounce, busby,\n",
      "Nearest to it: zero, a, and, not, some, be, mei, one,\n",
      "Nearest to no: four, leucippus, different, in, brel, propulsion, new, platoon,\n",
      "Nearest to other: UNK, large, camped, five, fantastic, orestes, people, persuading,\n",
      "Nearest to during: of, in, dictatorship, ipswich, impious, mainly, compensated, revolving,\n",
      "Nearest to and: UNK, in, of, zero, nine, to, one, two,\n",
      "Nearest to or: and, ii, in, zero, nine, eight, UNK, of,\n",
      "Nearest to about: and, general, ii, same, vorarlberg, curd, accountable, shaffer,\n",
      "Nearest to states: veterans, had, knitted, useable, rgen, coyotes, slabs, work,\n",
      "Nearest to is: was, in, and, are, UNK, nine, for, zero,\n",
      "Nearest to the: a, one, UNK, and, his, nine, its, two,\n",
      "Nearest to will: swede, nine, lsch, buccaneer, international, novels, sibyl, crm,\n"
     ]
    }
   ],
   "source": [
    "# begin training\n",
    "num_steps = 100001\n",
    "with tf.Session(graph=graph) as session:\n",
    "    init.run()\n",
    "    print(\"initialized\")\n",
    "    \n",
    "    average_loss = 0\n",
    "    for step in range(num_steps):\n",
    "        batch_inputs, batch_labels = generate_batch(batch_size, num_skips, skip_window)\n",
    "        feed_dict = {train_inputs: batch_inputs, train_labels: batch_labels}\n",
    "        \n",
    "        _, loss_val = session.run([optimizer, loss], feed_dict=feed_dict)\n",
    "        average_loss += loss_val\n",
    "        if step % 2000 == 0:\n",
    "            if step > 0:\n",
    "                average_loss /= 2000\n",
    "            # The average loss is an estimate of the loss over the last 2000 batches.\n",
    "            print('Average loss at step ', step, ': ', average_loss)\n",
    "            average_loss = 0\n",
    "        \n",
    "    # Note that this is expensive (~20% slowdown if computed every 500 steps)\n",
    "        if step % 10000 == 0:\n",
    "            sim = similarity.eval()\n",
    "            for i in xrange(valid_size):\n",
    "                valid_word = reverse_dictionary[valid_examples[i]]\n",
    "                top_k = 8  # number of nearest neighbors\n",
    "                nearest = (-sim[i, :]).argsort()[1:top_k + 1]\n",
    "                log_str = 'Nearest to %s:' % valid_word\n",
    "                for k in xrange(top_k):\n",
    "                    close_word = reverse_dictionary[nearest[k]]\n",
    "                    log_str = '%s %s,' % (log_str, close_word)\n",
    "                print(log_str)\n",
    "    final_embeddings = normalized_embeddings.eval()"
   ]
  },
  {
   "cell_type": "code",
   "execution_count": null,
   "metadata": {
    "collapsed": true
   },
   "outputs": [],
   "source": []
  }
 ],
 "metadata": {
  "kernelspec": {
   "display_name": "Python 3",
   "language": "python",
   "name": "python3"
  },
  "language_info": {
   "codemirror_mode": {
    "name": "ipython",
    "version": 3
   },
   "file_extension": ".py",
   "mimetype": "text/x-python",
   "name": "python",
   "nbconvert_exporter": "python",
   "pygments_lexer": "ipython3",
   "version": "3.6.2"
  }
 },
 "nbformat": 4,
 "nbformat_minor": 2
}
