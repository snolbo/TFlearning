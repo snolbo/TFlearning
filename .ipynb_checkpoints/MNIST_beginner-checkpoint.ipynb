{
 "cells": [
  {
   "cell_type": "code",
   "execution_count": 5,
   "metadata": {},
   "outputs": [
    {
     "name": "stdout",
     "output_type": "stream",
     "text": [
      "Extracting MNIST_data/train-images-idx3-ubyte.gz\n",
      "Extracting MNIST_data/train-labels-idx1-ubyte.gz\n",
      "Extracting MNIST_data/t10k-images-idx3-ubyte.gz\n",
      "Extracting MNIST_data/t10k-labels-idx1-ubyte.gz\n"
     ]
    }
   ],
   "source": [
    "# Get MNIST data set and load into mnist. split into .train .validation and .test. Each set contains .images and .labels\n",
    "from tensorflow.examples.tutorials.mnist import input_data\n",
    "mnist = input_data.read_data_sets(\"MNIST_data/\", one_hot=True)\n",
    "\n",
    "# mnist.train.images is a tensor with shape [55000, 784]. contains 55000 images of 784 features(pixels) and each pixel has a vlaue\n",
    "# mnist.train.labels is tensor of shape [55000, 10]. using one-hot encoding. meaning a vector of size 10 with 9 0s and one 1, indicating the label\n",
    "\n",
    "# softmax(x) = normalize(exp(x))\n",
    "\n"
   ]
  },
  {
   "cell_type": "code",
   "execution_count": 30,
   "metadata": {},
   "outputs": [],
   "source": [
    "\n",
    "import tensorflow as tf\n",
    "\n",
    "# DEFINING MODEL\n",
    "\n",
    "feature_size = 784\n",
    "num_labels = 10\n",
    "\n",
    "# Placeholders are holder for values we insert when we want to run a computation. x is the input vector used in computions\n",
    "x = tf.placeholder(tf.float32, [None, feature_size]) # None means any length, so we can put multiple images in here\n",
    "\n",
    "# Variables, are modifiable during computations. Need for weights and biases\n",
    "W = tf.Variable(tf.zeros([feature_size, num_labels]))  # take input tensor of [input dim, output dim]\n",
    "b = tf.Variable(tf.zeros([num_labels]))              # bias must equal output dim\n",
    "\n",
    "# Implementing the model:\n",
    "y_pred = tf.matmul(x, W) + b\n"
   ]
  },
  {
   "cell_type": "code",
   "execution_count": 35,
   "metadata": {
    "scrolled": false
   },
   "outputs": [
    {
     "name": "stdout",
     "output_type": "stream",
     "text": [
      "0.8924\n"
     ]
    }
   ],
   "source": [
    "# in ML we define a cost/loss function that defined how bad the model is, so we can update it to become better.\n",
    "# Try to minimize the error given by this function Often use cross entrophy to determine loss: -sum(y_true*log(y_pred))\n",
    "# Cross enthropy measures how inefficient predictions are to describing the truth \n",
    "\n",
    "#TRAINING\n",
    "\n",
    "# Creating placeholder for true values and predictions:\n",
    "y_true = tf.placeholder(tf.float32, [None, num_labels])\n",
    "#loss = tf.reduce_mean(-tf.reduce_sum(y_true * tf.log(logits), reduction_indices=[1]))\n",
    "# reduce_sum(tensor, reduction_indices=[x]) adds the element in dimention x of value. reduce_mean computes mean over all examples inbatch\n",
    "# Doing this however is numerically unstable, use this function instead:\n",
    "loss = tf.nn.softmax_cross_entropy_with_logits(labels=y_true, logits=y_pred)\n",
    "\n",
    "# make TF minimize the loss function(cross entropy) using gradient descent with 0.5 learning rate\n",
    "# the returned object is an operation that when run does a step of gradient descent training\n",
    "optimizer = tf.train.GradientDescentOptimizer(0.5).minimize(loss)\n",
    "\n",
    "# Launch the model:\n",
    "session = tf.InteractiveSession()\n",
    "# initialize created variables:\n",
    "tf.global_variables_initializer().run()\n",
    "\n",
    "# Train for 1000 steps:\n",
    "for i in range(10000):\n",
    "    batch_x, batch_y = mnist.train.next_batch(100) # returns batch of 100 examples\n",
    "    session.run(optimizer, feed_dict={x: batch_x, y_true: batch_y}) # runs the model with batch data, and updates using optimizer\n",
    "\n",
    "# EVALUATING MODEL:\n",
    "correct_predictions = tf.equal(tf.argmax(y_pred, 1), tf.argmax(y_true, 1)) # gives list of booleans\n",
    "accuracy = tf.reduce_mean(tf.cast(correct_predictions, tf.float32))\n",
    "print(session.run(accuracy, feed_dict={x: mnist.test.images, y_true: mnist.test.labels}))"
   ]
  },
  {
   "cell_type": "code",
   "execution_count": null,
   "metadata": {
    "collapsed": true
   },
   "outputs": [],
   "source": []
  }
 ],
 "metadata": {
  "kernelspec": {
   "display_name": "Python 3",
   "language": "python",
   "name": "python3"
  },
  "language_info": {
   "codemirror_mode": {
    "name": "ipython",
    "version": 3
   },
   "file_extension": ".py",
   "mimetype": "text/x-python",
   "name": "python",
   "nbconvert_exporter": "python",
   "pygments_lexer": "ipython3",
   "version": "3.6.2"
  }
 },
 "nbformat": 4,
 "nbformat_minor": 2
}
