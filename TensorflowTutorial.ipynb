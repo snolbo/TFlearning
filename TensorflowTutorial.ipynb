{
 "cells": [
  {
   "cell_type": "markdown",
   "metadata": {},
   "source": [
    "---\n",
    "Imports\n",
    "---"
   ]
  },
  {
   "cell_type": "code",
   "execution_count": 2,
   "metadata": {},
   "outputs": [],
   "source": [
    "import tensorflow as tf"
   ]
  },
  {
   "cell_type": "markdown",
   "metadata": {},
   "source": [
    "---\n",
    "Computational graph\n",
    "Tensorflow core consists of 2 parts:\n",
    "1. Building computational graph\n",
    "2. Running computational graph\n",
    "\n",
    "A computational graph is a series of TensorFlow operations arranged into a graph of nodes\n",
    "\n",
    "Each node takes zero or more tensors as inputs and produces a tensor as an output. One type of node is a constant. Like all TensorFlow constants, it takes no inputs, and it outputs a value it stores internally. We can create two floating point Tensors node1 and node2 as follows:\n",
    "\n",
    "\n",
    "\n",
    "---"
   ]
  },
  {
   "cell_type": "code",
   "execution_count": 3,
   "metadata": {},
   "outputs": [
    {
     "name": "stdout",
     "output_type": "stream",
     "text": [
      "Tensor(\"Const:0\", shape=(), dtype=float32) Tensor(\"Const_1:0\", shape=(), dtype=float32)\n"
     ]
    }
   ],
   "source": [
    "node1 = tf.constant(3.0, dtype=tf.float32)\n",
    "node2 = tf.constant(4.0) # dtype= tf.float32 by default\n",
    "print(node1, node2)"
   ]
  },
  {
   "cell_type": "markdown",
   "metadata": {},
   "source": [
    "---\n",
    "\n",
    "To actually evaluate the nodes, we must run the computational graph within a session. A session encapsulates the control and state of the TensorFlow runtime.\n",
    "\n",
    "The following code creates a Session object and then invokes its run method to run enough of the computational graph to evaluate node1 and node2. By running the computational graph in a session as follows:\n",
    "\n",
    "---"
   ]
  },
  {
   "cell_type": "code",
   "execution_count": 4,
   "metadata": {},
   "outputs": [
    {
     "name": "stdout",
     "output_type": "stream",
     "text": [
      "[3.0, 4.0]\n"
     ]
    }
   ],
   "source": [
    "session = tf.Session()\n",
    "print(session.run([node1, node2]))"
   ]
  },
  {
   "cell_type": "markdown",
   "metadata": {},
   "source": [
    "---\n",
    "\n",
    "We can build more complicated computations by combining Tensor nodes with operations (Operations are also nodes). For example, we can add our two constant nodes and produce a new graph as follows:\n",
    "\n",
    "---"
   ]
  },
  {
   "cell_type": "code",
   "execution_count": 8,
   "metadata": {},
   "outputs": [
    {
     "name": "stdout",
     "output_type": "stream",
     "text": [
      "node3:  Tensor(\"Add:0\", shape=(), dtype=float32)\n",
      "session.run(node3):  7.0\n"
     ]
    }
   ],
   "source": [
    "from __future__ import print_function\n",
    "node3 = tf.add(node1, node2)\n",
    "print(\"node3: \", node3)\n",
    "print(\"session.run(node3): \", session.run(node3))"
   ]
  },
  {
   "cell_type": "code",
   "execution_count": 11,
   "metadata": {},
   "outputs": [
    {
     "name": "stdout",
     "output_type": "stream",
     "text": [
      "8.0\n",
      "[  6.  11.]\n",
      "[ 18.  33.]\n"
     ]
    }
   ],
   "source": [
    "\n",
    "# A graph can be parameterized to accept external inputs, known as placeholders. A placeholder is a promise to provide a \n",
    "# value later.\n",
    "a = tf.placeholder(tf.float32)\n",
    "b = tf.placeholder(tf.float32)\n",
    "c = a + b # same as tf.add(a, b)\n",
    "print(session.run(c, {a : 3.5, b : 4.5}))\n",
    "print(session.run(c, {a : [1, 3], b : [5, 8]}))\n",
    "\n",
    "d = c * 3\n",
    "print(session.run(d, {a : [1, 3], b : [5, 8]}))\n"
   ]
  },
  {
   "cell_type": "code",
   "execution_count": 29,
   "metadata": {},
   "outputs": [
    {
     "name": "stdout",
     "output_type": "stream",
     "text": [
      "[ 0.          0.30000001  0.60000002  0.90000004]\n"
     ]
    }
   ],
   "source": [
    "# Creating and initializing variables\n",
    "\n",
    "W = tf.Variable([.3], dtype=tf.float32)\n",
    "b = tf.Variable([-.3], dtype=tf.float32)\n",
    "x = tf.placeholder(tf.float32)\n",
    "linear_model = W*x + b\n",
    "\n",
    "# variables must explicitly be innitialized with call to run on global_variables_initializer from session\n",
    "init = tf.global_variables_initializer()\n",
    "session.run(init)\n",
    "\n",
    "# Can pass several values of x\n",
    "print(session.run(linear_model, {x : [1, 2, 3, 4]}))"
   ]
  },
  {
   "cell_type": "code",
   "execution_count": 30,
   "metadata": {
    "scrolled": false
   },
   "outputs": [
    {
     "name": "stdout",
     "output_type": "stream",
     "text": [
      "23.66\n",
      "0.0\n"
     ]
    }
   ],
   "source": [
    "# Evaluation the model on data:\n",
    "y = tf.placeholder(tf.float32)\n",
    "squared_deltas = tf.square(linear_model - y)\n",
    "loss = tf.reduce_sum(squared_deltas)\n",
    "print(session.run(loss, {x : [1, 2, 3, 4], y : [0, -1, -2, -3]}))\n",
    "\n",
    "# Reassigning values of variables:\n",
    "fixW = tf.assign(W, [-1.])\n",
    "fixb = tf.assign(b, [1.])\n",
    "session.run([fixW, fixb])\n",
    "print(session.run(loss, {x : [1, 2, 3, 4], y : [0, -1, -2, -3]}))"
   ]
  },
  {
   "cell_type": "code",
   "execution_count": 31,
   "metadata": {},
   "outputs": [
    {
     "name": "stdout",
     "output_type": "stream",
     "text": [
      "[array([-0.9999969], dtype=float32), array([ 0.99999082], dtype=float32)]\n"
     ]
    }
   ],
   "source": [
    "#Training \n",
    "optimizer = tf.train.GradientDescentOptimizer(0.01)\n",
    "train = optimizer.minimize(loss)\n",
    "session.run(init) # Reset values to defaults\n",
    "for i in range(1000):\n",
    "    session.run(train, {x: [1, 2, 3, 4], y: [0, -1, -2, -3]})\n",
    "print(session.run([W, b]))"
   ]
  },
  {
   "cell_type": "code",
   "execution_count": 32,
   "metadata": {},
   "outputs": [
    {
     "name": "stdout",
     "output_type": "stream",
     "text": [
      "W: [-0.9999969] b: [ 0.99999082] loss: 5.69997e-11\n"
     ]
    }
   ],
   "source": [
    "# Complate program for training a simple linear regression model:\n",
    "import tensorflow as tf\n",
    "\n",
    "# Model parameters\n",
    "W = tf.Variable([.3], dtype=tf.float32)\n",
    "b = tf.Variable([-.3], dtype=tf.float32)\n",
    "# Model input and output\n",
    "x = tf.placeholder(tf.float32)\n",
    "y = tf.placeholder(tf.float32)\n",
    "linear_model = W*x + b\n",
    "\n",
    "\n",
    "# loss\n",
    "loss = tf.reduce_sum(tf.square(linear_model - y)) # sum of the squares\n",
    "# optimizer\n",
    "optimizer = tf.train.GradientDescentOptimizer(0.01)\n",
    "train = optimizer.minimize(loss)\n",
    "\n",
    "# training data\n",
    "x_train = [1, 2, 3, 4]\n",
    "y_train = [0, -1, -2, -3]\n",
    "# training loop\n",
    "init = tf.global_variables_initializer()\n",
    "sess = tf.Session()\n",
    "sess.run(init) # reset values to wrong\n",
    "for i in range(1000):\n",
    "  sess.run(train, {x: x_train, y: y_train})\n",
    "\n",
    "# evaluate training accuracy\n",
    "curr_W, curr_b, curr_loss = sess.run([W, b, loss], {x: x_train, y: y_train})\n",
    "print(\"W: %s b: %s loss: %s\"%(curr_W, curr_b, curr_loss))"
   ]
  },
  {
   "cell_type": "markdown",
   "metadata": {},
   "source": [
    "---\n",
    "tf.estimator\n",
    "tf.estimator is a high-level TensorFlow library that simplifies the mechanics of machine learning, including the following:\n",
    "\n",
    "running training loops\n",
    "running evaluation loops\n",
    "managing data sets\n",
    "tf.estimator defines many common models.\n",
    "\n",
    "Basic usage\n",
    "Notice how much simpler the linear regression program becomes with tf.estimator:\n",
    "\n",
    "---"
   ]
  },
  {
   "cell_type": "code",
   "execution_count": 33,
   "metadata": {},
   "outputs": [
    {
     "name": "stdout",
     "output_type": "stream",
     "text": [
      "INFO:tensorflow:Using default config.\n",
      "WARNING:tensorflow:Using temporary folder as model directory: C:\\Users\\snorr\\AppData\\Local\\Temp\\tmpdnnxaqi5\n",
      "INFO:tensorflow:Using config: {'_model_dir': 'C:\\\\Users\\\\snorr\\\\AppData\\\\Local\\\\Temp\\\\tmpdnnxaqi5', '_tf_random_seed': None, '_save_summary_steps': 100, '_save_checkpoints_steps': None, '_save_checkpoints_secs': 600, '_session_config': None, '_keep_checkpoint_max': 5, '_keep_checkpoint_every_n_hours': 10000, '_log_step_count_steps': 100, '_service': None, '_cluster_spec': <tensorflow.python.training.server_lib.ClusterSpec object at 0x0000020B1765D320>, '_task_type': 'worker', '_task_id': 0, '_master': '', '_is_chief': True, '_num_ps_replicas': 0, '_num_worker_replicas': 1}\n",
      "INFO:tensorflow:Create CheckpointSaverHook.\n",
      "INFO:tensorflow:Saving checkpoints for 1 into C:\\Users\\snorr\\AppData\\Local\\Temp\\tmpdnnxaqi5\\model.ckpt.\n",
      "INFO:tensorflow:loss = 27.0, step = 1\n",
      "INFO:tensorflow:global_step/sec: 1090.4\n",
      "INFO:tensorflow:loss = 0.32995, step = 101 (0.092 sec)\n",
      "INFO:tensorflow:global_step/sec: 1522.03\n",
      "INFO:tensorflow:loss = 0.0959176, step = 201 (0.066 sec)\n",
      "INFO:tensorflow:global_step/sec: 1013.62\n",
      "INFO:tensorflow:loss = 0.0145572, step = 301 (0.101 sec)\n",
      "INFO:tensorflow:global_step/sec: 1216.27\n",
      "INFO:tensorflow:loss = 0.00916849, step = 401 (0.082 sec)\n",
      "INFO:tensorflow:global_step/sec: 1159.72\n",
      "INFO:tensorflow:loss = 0.000656381, step = 501 (0.085 sec)\n",
      "INFO:tensorflow:global_step/sec: 1195.42\n",
      "INFO:tensorflow:loss = 0.000488308, step = 601 (0.084 sec)\n",
      "INFO:tensorflow:global_step/sec: 1500.3\n",
      "INFO:tensorflow:loss = 0.000180695, step = 701 (0.066 sec)\n",
      "INFO:tensorflow:global_step/sec: 1209.83\n",
      "INFO:tensorflow:loss = 2.76103e-05, step = 801 (0.083 sec)\n",
      "INFO:tensorflow:global_step/sec: 1188.93\n",
      "INFO:tensorflow:loss = 1.16818e-05, step = 901 (0.084 sec)\n",
      "INFO:tensorflow:Saving checkpoints for 1000 into C:\\Users\\snorr\\AppData\\Local\\Temp\\tmpdnnxaqi5\\model.ckpt.\n",
      "INFO:tensorflow:Loss for final step: 2.76173e-06.\n",
      "INFO:tensorflow:Starting evaluation at 2017-12-25-13:01:06\n",
      "INFO:tensorflow:Restoring parameters from C:\\Users\\snorr\\AppData\\Local\\Temp\\tmpdnnxaqi5\\model.ckpt-1000\n",
      "INFO:tensorflow:Finished evaluation at 2017-12-25-13:01:07\n",
      "INFO:tensorflow:Saving dict for global step 1000: average_loss = 6.67974e-07, global_step = 1000, loss = 2.6719e-06\n",
      "INFO:tensorflow:Starting evaluation at 2017-12-25-13:01:08\n",
      "INFO:tensorflow:Restoring parameters from C:\\Users\\snorr\\AppData\\Local\\Temp\\tmpdnnxaqi5\\model.ckpt-1000\n",
      "INFO:tensorflow:Finished evaluation at 2017-12-25-13:01:08\n",
      "INFO:tensorflow:Saving dict for global step 1000: average_loss = 0.00259941, global_step = 1000, loss = 0.0103976\n",
      "train metrics: {'average_loss': 6.6797418e-07, 'loss': 2.6718967e-06, 'global_step': 1000}\n",
      "eval metrics: {'average_loss': 0.0025994086, 'loss': 0.010397634, 'global_step': 1000}\n"
     ]
    }
   ],
   "source": [
    "# NumPy is often used to load, manipulate and preprocess data.\n",
    "import numpy as np\n",
    "import tensorflow as tf\n",
    "\n",
    "# Declare list of features. We only have one numeric feature. There are many\n",
    "# other types of columns that are more complicated and useful.\n",
    "feature_columns = [tf.feature_column.numeric_column(\"x\", shape=[1])]\n",
    "\n",
    "# An estimator is the front end to invoke training (fitting) and evaluation\n",
    "# (inference). There are many predefined types like linear regression,\n",
    "# linear classification, and many neural network classifiers and regressors.\n",
    "# The following code provides an estimator that does linear regression.\n",
    "estimator = tf.estimator.LinearRegressor(feature_columns=feature_columns)\n",
    "\n",
    "# TensorFlow provides many helper methods to read and set up data sets.\n",
    "# Here we use two data sets: one for training and one for evaluation\n",
    "# We have to tell the function how many batches\n",
    "# of data (num_epochs) we want and how big each batch should be.\n",
    "x_train = np.array([1., 2., 3., 4.])\n",
    "y_train = np.array([0., -1., -2., -3.])\n",
    "x_eval  = np.array([2., 5., 8., 1.])\n",
    "y_eval  = np.array([-1.01, -4.1, -7, 0.])\n",
    "input_fn       = tf.estimator.inputs.numpy_input_fn({\"x\": x_train}, y_train, batch_size=4, num_epochs=None, shuffle=True)\n",
    "train_input_fn = tf.estimator.inputs.numpy_input_fn({\"x\": x_train}, y_train, batch_size=4, num_epochs=1000, shuffle=False)\n",
    "eval_input_fn  = tf.estimator.inputs.numpy_input_fn({\"x\": x_eval},  y_eval,  batch_size=4, num_epochs=1000, shuffle=False)\n",
    "\n",
    "# We can invoke 1000 training steps by invoking the  method and passing the\n",
    "# training data set.\n",
    "estimator.train(input_fn=input_fn, steps=1000)\n",
    "\n",
    "# Here we evaluate how well our model did.\n",
    "train_metrics = estimator.evaluate(input_fn=train_input_fn)\n",
    "eval_metrics  = estimator.evaluate(input_fn=eval_input_fn)\n",
    "print(\"train metrics: %r\"% train_metrics)\n",
    "print(\"eval metrics: %r\"% eval_metrics)"
   ]
  },
  {
   "cell_type": "code",
   "execution_count": 34,
   "metadata": {},
   "outputs": [
    {
     "name": "stdout",
     "output_type": "stream",
     "text": [
      "INFO:tensorflow:Using default config.\n",
      "WARNING:tensorflow:Using temporary folder as model directory: C:\\Users\\snorr\\AppData\\Local\\Temp\\tmp5lotdlnc\n",
      "INFO:tensorflow:Using config: {'_model_dir': 'C:\\\\Users\\\\snorr\\\\AppData\\\\Local\\\\Temp\\\\tmp5lotdlnc', '_tf_random_seed': None, '_save_summary_steps': 100, '_save_checkpoints_steps': None, '_save_checkpoints_secs': 600, '_session_config': None, '_keep_checkpoint_max': 5, '_keep_checkpoint_every_n_hours': 10000, '_log_step_count_steps': 100, '_service': None, '_cluster_spec': <tensorflow.python.training.server_lib.ClusterSpec object at 0x0000020B17985668>, '_task_type': 'worker', '_task_id': 0, '_master': '', '_is_chief': True, '_num_ps_replicas': 0, '_num_worker_replicas': 1}\n",
      "INFO:tensorflow:Create CheckpointSaverHook.\n",
      "INFO:tensorflow:Saving checkpoints for 1 into C:\\Users\\snorr\\AppData\\Local\\Temp\\tmp5lotdlnc\\model.ckpt.\n",
      "INFO:tensorflow:loss = 2.72549420593, step = 1\n",
      "INFO:tensorflow:global_step/sec: 1077.26\n",
      "INFO:tensorflow:loss = 0.131959258717, step = 101 (0.095 sec)\n",
      "INFO:tensorflow:global_step/sec: 1312.3\n",
      "INFO:tensorflow:loss = 0.00649495542667, step = 201 (0.077 sec)\n",
      "INFO:tensorflow:global_step/sec: 1246.69\n",
      "INFO:tensorflow:loss = 0.00357535360592, step = 301 (0.079 sec)\n",
      "INFO:tensorflow:global_step/sec: 1262.43\n",
      "INFO:tensorflow:loss = 0.000185545134937, step = 401 (0.079 sec)\n",
      "INFO:tensorflow:global_step/sec: 1216.28\n",
      "INFO:tensorflow:loss = 2.48837009676e-05, step = 501 (0.082 sec)\n",
      "INFO:tensorflow:global_step/sec: 1262.45\n",
      "INFO:tensorflow:loss = 8.86048516764e-07, step = 601 (0.079 sec)\n",
      "INFO:tensorflow:global_step/sec: 1230.7\n",
      "INFO:tensorflow:loss = 5.52202305779e-08, step = 701 (0.079 sec)\n",
      "INFO:tensorflow:global_step/sec: 1192.08\n",
      "INFO:tensorflow:loss = 1.67840633077e-08, step = 801 (0.084 sec)\n",
      "INFO:tensorflow:global_step/sec: 1315.29\n",
      "INFO:tensorflow:loss = 1.65136288772e-09, step = 901 (0.078 sec)\n",
      "INFO:tensorflow:Saving checkpoints for 1000 into C:\\Users\\snorr\\AppData\\Local\\Temp\\tmp5lotdlnc\\model.ckpt.\n",
      "INFO:tensorflow:Loss for final step: 6.44214695198e-11.\n",
      "INFO:tensorflow:Starting evaluation at 2017-12-25-13:07:09\n",
      "INFO:tensorflow:Restoring parameters from C:\\Users\\snorr\\AppData\\Local\\Temp\\tmp5lotdlnc\\model.ckpt-1000\n",
      "INFO:tensorflow:Finished evaluation at 2017-12-25-13:07:10\n",
      "INFO:tensorflow:Saving dict for global step 1000: global_step = 1000, loss = 1.16172e-10\n",
      "INFO:tensorflow:Starting evaluation at 2017-12-25-13:07:10\n",
      "INFO:tensorflow:Restoring parameters from C:\\Users\\snorr\\AppData\\Local\\Temp\\tmp5lotdlnc\\model.ckpt-1000\n",
      "INFO:tensorflow:Finished evaluation at 2017-12-25-13:07:11\n",
      "INFO:tensorflow:Saving dict for global step 1000: global_step = 1000, loss = 0.0101007\n",
      "train metrics: {'loss': 1.16172e-10, 'global_step': 1000}\n",
      "eval metrics: {'loss': 0.010100652, 'global_step': 1000}\n"
     ]
    }
   ],
   "source": [
    "# Creating costum model using estimator:\n",
    "import numpy as np\n",
    "import tensorflow as tf\n",
    "\n",
    "# Declare list of features, we only have one real-valued feature\n",
    "def model_fn(features, labels, mode):\n",
    "    # Build a linear model and predict values\n",
    "    W = tf.get_variable(\"W\", [1], dtype=tf.float64)\n",
    "    b = tf.get_variable(\"b\", [1], dtype=tf.float64)\n",
    "    y = W*features['x'] + b\n",
    "    # Loss sub-graph\n",
    "    loss = tf.reduce_sum(tf.square(y - labels))\n",
    "    # Training sub-graph\n",
    "    global_step = tf.train.get_global_step()\n",
    "    optimizer = tf.train.GradientDescentOptimizer(0.01)\n",
    "    train = tf.group(optimizer.minimize(loss), tf.assign_add(global_step, 1))\n",
    "  # EstimatorSpec connects subgraphs we built to the\n",
    "  # appropriate functionality.\n",
    "    return tf.estimator.EstimatorSpec(\n",
    "      mode=mode,\n",
    "      predictions=y,\n",
    "      loss=loss,\n",
    "      train_op=train)\n",
    "\n",
    "estimator = tf.estimator.Estimator(model_fn=model_fn)\n",
    "# define our data sets\n",
    "x_train = np.array([1., 2., 3., 4.])\n",
    "y_train = np.array([0., -1., -2., -3.])\n",
    "x_eval = np.array([2., 5., 8., 1.])\n",
    "y_eval = np.array([-1.01, -4.1, -7., 0.])\n",
    "input_fn = tf.estimator.inputs.numpy_input_fn(\n",
    "    {\"x\": x_train}, y_train, batch_size=4, num_epochs=None, shuffle=True)\n",
    "train_input_fn = tf.estimator.inputs.numpy_input_fn(\n",
    "    {\"x\": x_train}, y_train, batch_size=4, num_epochs=1000, shuffle=False)\n",
    "eval_input_fn = tf.estimator.inputs.numpy_input_fn(\n",
    "    {\"x\": x_eval}, y_eval, batch_size=4, num_epochs=1000, shuffle=False)\n",
    "\n",
    "# train\n",
    "estimator.train(input_fn=input_fn, steps=1000)\n",
    "# Here we evaluate how well our model did.\n",
    "train_metrics = estimator.evaluate(input_fn=train_input_fn)\n",
    "eval_metrics = estimator.evaluate(input_fn=eval_input_fn)\n",
    "print(\"train metrics: %r\"% train_metrics)\n",
    "print(\"eval metrics: %r\"% eval_metrics)"
   ]
  },
  {
   "cell_type": "code",
   "execution_count": null,
   "metadata": {
    "collapsed": true
   },
   "outputs": [],
   "source": []
  }
 ],
 "metadata": {
  "kernelspec": {
   "display_name": "Python 3",
   "language": "python",
   "name": "python3"
  },
  "language_info": {
   "codemirror_mode": {
    "name": "ipython",
    "version": 3
   },
   "file_extension": ".py",
   "mimetype": "text/x-python",
   "name": "python",
   "nbconvert_exporter": "python",
   "pygments_lexer": "ipython3",
   "version": "3.6.2"
  }
 },
 "nbformat": 4,
 "nbformat_minor": 2
}
