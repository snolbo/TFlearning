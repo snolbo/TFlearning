{
 "cells": [
  {
   "cell_type": "markdown",
   "metadata": {},
   "source": [
    "---\n",
    "Load CSVs containing Iris training/test data into a TensorFlow Dataset.\n",
    "\n",
    "Construct a neural network classifier.\n",
    "\n",
    "Train the model using the training data.\n",
    "\n",
    "Evaluate the accuracy of the model.\n",
    "\n",
    "Classify new samples.\n",
    "\n",
    "---"
   ]
  },
  {
   "cell_type": "code",
   "execution_count": 1,
   "metadata": {
    "collapsed": true
   },
   "outputs": [],
   "source": [
    "from __future__ import absolute_import\n",
    "from __future__ import division\n",
    "from __future__ import print_function\n",
    "\n",
    "import os\n",
    "from six.moves.urllib.request import urlopen\n",
    "\n",
    "import tensorflow as tf\n",
    "import numpy as np\n",
    "\n",
    "IRIS_TRAINING = \"iris_training.csv\"\n",
    "IRIS_TRAINING_URL = \"http://download.tensorflow.org/data/iris_training.csv\"\n",
    "\n",
    "IRIS_TEST = \"iris_test.csv\"\n",
    "IRIS_TEST_URL = \"http://download.tensorflow.org/data/iris_test.csv\""
   ]
  },
  {
   "cell_type": "code",
   "execution_count": 2,
   "metadata": {
    "collapsed": true
   },
   "outputs": [],
   "source": [
    "if not os.path.exists(IRIS_TRAINING):\n",
    "  raw = urlopen(IRIS_TRAINING_URL).read()\n",
    "  with open(IRIS_TRAINING,'wb') as f:\n",
    "    f.write(raw)\n",
    "\n",
    "if not os.path.exists(IRIS_TEST):\n",
    "  raw = urlopen(IRIS_TEST_URL).read()\n",
    "  with open(IRIS_TEST,'wb') as f:\n",
    "    f.write(raw)"
   ]
  },
  {
   "cell_type": "code",
   "execution_count": 3,
   "metadata": {
    "collapsed": true
   },
   "outputs": [],
   "source": [
    "# Load datasets.\n",
    "training_set = tf.contrib.learn.datasets.base.load_csv_with_header(\n",
    "    filename=IRIS_TRAINING,\n",
    "    target_dtype=np.int,\n",
    "    features_dtype=np.float32)\n",
    "test_set = tf.contrib.learn.datasets.base.load_csv_with_header(\n",
    "    filename=IRIS_TEST,\n",
    "    target_dtype=np.int,\n",
    "    features_dtype=np.float32)"
   ]
  },
  {
   "cell_type": "code",
   "execution_count": 4,
   "metadata": {},
   "outputs": [
    {
     "name": "stdout",
     "output_type": "stream",
     "text": [
      "INFO:tensorflow:Using default config.\n",
      "INFO:tensorflow:Using config: {'_model_dir': '/tmp/iris_model1', '_tf_random_seed': None, '_save_summary_steps': 100, '_save_checkpoints_steps': None, '_save_checkpoints_secs': 600, '_session_config': None, '_keep_checkpoint_max': 5, '_keep_checkpoint_every_n_hours': 10000, '_log_step_count_steps': 100, '_service': None, '_cluster_spec': <tensorflow.python.training.server_lib.ClusterSpec object at 0x000001E87388FA58>, '_task_type': 'worker', '_task_id': 0, '_master': '', '_is_chief': True, '_num_ps_replicas': 0, '_num_worker_replicas': 1}\n"
     ]
    }
   ],
   "source": [
    "# Constructing the computation graph\n",
    "\n",
    "# Specify feature type. 4 features per example. model_dir is where to save checkpoints data\n",
    "feature_columns = [tf.feature_column.numeric_column(\"x\", shape=[4])]\n",
    "# build net with 10,20 and 10 units\n",
    "classifier = tf.estimator.DNNClassifier(feature_columns=feature_columns,\n",
    "                                       hidden_units=[10,20, 20, 10],\n",
    "                                       n_classes=3,\n",
    "                                       model_dir=\"/tmp/iris_model1\")\n"
   ]
  },
  {
   "cell_type": "code",
   "execution_count": 5,
   "metadata": {},
   "outputs": [
    {
     "name": "stdout",
     "output_type": "stream",
     "text": [
      "(120, 4)\n",
      "(120,)\n"
     ]
    }
   ],
   "source": [
    "print(training_set.data.shape)\n",
    "print(training_set.target.shape)\n",
    "# describe training input pipeline\n",
    "train_input_fn = tf.estimator.inputs.numpy_input_fn(\n",
    "    x={\"x\": np.array(training_set.data)},\n",
    "    y=np.array(training_set.target),\n",
    "    num_epochs=None,\n",
    "    shuffle=True\n",
    "    )"
   ]
  },
  {
   "cell_type": "code",
   "execution_count": 25,
   "metadata": {},
   "outputs": [
    {
     "name": "stdout",
     "output_type": "stream",
     "text": [
      "INFO:tensorflow:Create CheckpointSaverHook.\n",
      "INFO:tensorflow:Saving checkpoints for 1 into /tmp/iris_model1\\model.ckpt.\n",
      "INFO:tensorflow:loss = 212.094, step = 1\n",
      "INFO:tensorflow:global_step/sec: 374.628\n",
      "INFO:tensorflow:loss = 9.94038, step = 101 (0.286 sec)\n",
      "INFO:tensorflow:global_step/sec: 442.028\n",
      "INFO:tensorflow:loss = 9.77558, step = 201 (0.227 sec)\n",
      "INFO:tensorflow:global_step/sec: 444.886\n",
      "INFO:tensorflow:loss = 10.5664, step = 301 (0.218 sec)\n",
      "INFO:tensorflow:global_step/sec: 470.599\n",
      "INFO:tensorflow:loss = 7.89171, step = 401 (0.219 sec)\n",
      "INFO:tensorflow:global_step/sec: 433.587\n",
      "INFO:tensorflow:loss = 4.28263, step = 501 (0.219 sec)\n",
      "INFO:tensorflow:global_step/sec: 476.439\n",
      "INFO:tensorflow:loss = 6.61481, step = 601 (0.223 sec)\n",
      "INFO:tensorflow:global_step/sec: 456.46\n",
      "INFO:tensorflow:loss = 7.35095, step = 701 (0.218 sec)\n",
      "INFO:tensorflow:global_step/sec: 430.492\n",
      "INFO:tensorflow:loss = 6.81428, step = 801 (0.224 sec)\n",
      "INFO:tensorflow:global_step/sec: 442.056\n",
      "INFO:tensorflow:loss = 5.13218, step = 901 (0.231 sec)\n",
      "INFO:tensorflow:global_step/sec: 461.696\n",
      "INFO:tensorflow:loss = 5.38504, step = 1001 (0.221 sec)\n",
      "INFO:tensorflow:global_step/sec: 424.43\n",
      "INFO:tensorflow:loss = 5.90283, step = 1101 (0.221 sec)\n",
      "INFO:tensorflow:global_step/sec: 453.559\n",
      "INFO:tensorflow:loss = 6.24285, step = 1201 (0.221 sec)\n",
      "INFO:tensorflow:global_step/sec: 445.737\n",
      "INFO:tensorflow:loss = 7.03985, step = 1301 (0.226 sec)\n",
      "INFO:tensorflow:global_step/sec: 465.645\n",
      "INFO:tensorflow:loss = 5.02901, step = 1401 (0.227 sec)\n",
      "INFO:tensorflow:global_step/sec: 423.773\n",
      "INFO:tensorflow:loss = 4.5088, step = 1501 (0.220 sec)\n",
      "INFO:tensorflow:global_step/sec: 419.766\n",
      "INFO:tensorflow:loss = 3.10564, step = 1601 (0.237 sec)\n",
      "INFO:tensorflow:global_step/sec: 470.313\n",
      "INFO:tensorflow:loss = 1.9221, step = 1701 (0.217 sec)\n",
      "INFO:tensorflow:global_step/sec: 421.792\n",
      "INFO:tensorflow:loss = 4.15005, step = 1801 (0.235 sec)\n",
      "INFO:tensorflow:global_step/sec: 412.279\n",
      "INFO:tensorflow:loss = 7.44867, step = 1901 (0.242 sec)\n",
      "INFO:tensorflow:Saving checkpoints for 2000 into /tmp/iris_model1\\model.ckpt.\n",
      "INFO:tensorflow:Loss for final step: 6.53011.\n",
      "INFO:tensorflow:Create CheckpointSaverHook.\n",
      "INFO:tensorflow:Restoring parameters from /tmp/iris_model1\\model.ckpt-2000\n",
      "INFO:tensorflow:Saving checkpoints for 2001 into /tmp/iris_model1\\model.ckpt.\n",
      "INFO:tensorflow:loss = 6.42337, step = 2001\n",
      "INFO:tensorflow:global_step/sec: 349.487\n",
      "INFO:tensorflow:loss = 8.25311, step = 2101 (0.286 sec)\n",
      "INFO:tensorflow:global_step/sec: 422.96\n",
      "INFO:tensorflow:loss = 4.79604, step = 2201 (0.240 sec)\n",
      "INFO:tensorflow:global_step/sec: 453.159\n",
      "INFO:tensorflow:loss = 6.74485, step = 2301 (0.223 sec)\n",
      "INFO:tensorflow:global_step/sec: 471.817\n",
      "INFO:tensorflow:loss = 5.52203, step = 2401 (0.219 sec)\n",
      "INFO:tensorflow:global_step/sec: 457.768\n",
      "INFO:tensorflow:loss = 5.91436, step = 2501 (0.214 sec)\n",
      "INFO:tensorflow:global_step/sec: 475.541\n",
      "INFO:tensorflow:loss = 7.02068, step = 2601 (0.212 sec)\n",
      "INFO:tensorflow:global_step/sec: 452.708\n",
      "INFO:tensorflow:loss = 2.00996, step = 2701 (0.212 sec)\n",
      "INFO:tensorflow:global_step/sec: 497.667\n",
      "INFO:tensorflow:loss = 8.09907, step = 2801 (0.211 sec)\n",
      "INFO:tensorflow:global_step/sec: 489.654\n",
      "INFO:tensorflow:loss = 4.04048, step = 2901 (0.209 sec)\n",
      "INFO:tensorflow:Saving checkpoints for 3000 into /tmp/iris_model1\\model.ckpt.\n",
      "INFO:tensorflow:Loss for final step: 2.43817.\n"
     ]
    },
    {
     "data": {
      "text/plain": [
       "<tensorflow.python.estimator.canned.dnn.DNNClassifier at 0x1fece877eb8>"
      ]
     },
     "execution_count": 25,
     "metadata": {},
     "output_type": "execute_result"
    }
   ],
   "source": [
    "# Fit the classifier to training data\n",
    "classifier.train(input_fn=train_input_fn, steps=2000)\n",
    "classifier.train(input_fn=train_input_fn, steps=1000)\n"
   ]
  },
  {
   "cell_type": "code",
   "execution_count": 26,
   "metadata": {},
   "outputs": [
    {
     "name": "stdout",
     "output_type": "stream",
     "text": [
      "INFO:tensorflow:Starting evaluation at 2017-12-25-20:17:31\n",
      "INFO:tensorflow:Restoring parameters from /tmp/iris_model1\\model.ckpt-3000\n",
      "INFO:tensorflow:Finished evaluation at 2017-12-25-20:17:31\n",
      "INFO:tensorflow:Saving dict for global step 3000: accuracy = 0.966667, average_loss = 0.0655351, global_step = 3000, loss = 1.96605\n",
      "\n",
      " Test accuracy: 0.966667\n",
      "\n"
     ]
    }
   ],
   "source": [
    "# Evaluate model accuracy\n",
    "test_input_fn = tf.estimator.inputs.numpy_input_fn(\n",
    "    x={\"x\": np.array(test_set.data)},\n",
    "    y=np.array(test_set.target),\n",
    "    num_epochs=1,\n",
    "    shuffle=False)\n",
    "\n",
    "accuracy_score = classifier.evaluate(input_fn=test_input_fn)[\"accuracy\"]\n",
    "\n",
    "print(\"\\n Test accuracy: \" + str(accuracy_score) + \"\\n\")"
   ]
  },
  {
   "cell_type": "code",
   "execution_count": 27,
   "metadata": {},
   "outputs": [
    {
     "name": "stdout",
     "output_type": "stream",
     "text": [
      "INFO:tensorflow:Restoring parameters from /tmp/iris_model1\\model.ckpt-3000\n",
      "New Samples, Class Predictions: [array([b'1'], dtype=object), array([b'2'], dtype=object)]\n"
     ]
    }
   ],
   "source": [
    "# Classifying new samples\n",
    "new_samples = np.array(\n",
    "    [[6.4, 3.2, 4.5, 1.5],\n",
    "     [5.8, 3.1, 5.0, 1.7]], dtype=np.float32)\n",
    "predict_input_fn = tf.estimator.inputs.numpy_input_fn(\n",
    "    x={\"x\": new_samples},\n",
    "    num_epochs=1,\n",
    "    shuffle=False)\n",
    "\n",
    "predictions = list(classifier.predict(input_fn=predict_input_fn))\n",
    "predicted_classes = [p[\"classes\"] for p in predictions]\n",
    "\n",
    "print(\"New Samples, Class Predictions: \" + str(predicted_classes))\n"
   ]
  },
  {
   "cell_type": "code",
   "execution_count": null,
   "metadata": {
    "collapsed": true
   },
   "outputs": [],
   "source": []
  }
 ],
 "metadata": {
  "kernelspec": {
   "display_name": "Python 3",
   "language": "python",
   "name": "python3"
  },
  "language_info": {
   "codemirror_mode": {
    "name": "ipython",
    "version": 3
   },
   "file_extension": ".py",
   "mimetype": "text/x-python",
   "name": "python",
   "nbconvert_exporter": "python",
   "pygments_lexer": "ipython3",
   "version": "3.6.2"
  }
 },
 "nbformat": 4,
 "nbformat_minor": 2
}
