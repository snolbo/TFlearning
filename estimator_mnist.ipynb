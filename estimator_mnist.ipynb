{
 "cells": [
  {
   "cell_type": "code",
   "execution_count": 9,
   "metadata": {},
   "outputs": [
    {
     "name": "stdout",
     "output_type": "stream",
     "text": [
      "Extracting MNIST_data\\train-images-idx3-ubyte.gz\n",
      "Extracting MNIST_data\\train-labels-idx1-ubyte.gz\n",
      "Extracting MNIST_data\\t10k-images-idx3-ubyte.gz\n",
      "Extracting MNIST_data\\t10k-labels-idx1-ubyte.gz\n",
      "loaded data3\n"
     ]
    }
   ],
   "source": [
    "from tensorflow.examples.tutorials.mnist import input_data\n",
    "mnist = input_data.read_data_sets(\"MNIST_data\", one_hot=True)\n",
    "print(\"loaded data3\")\n",
    "\n",
    "import tensorflow as tf\n",
    "import numpy as np\n"
   ]
  },
  {
   "cell_type": "code",
   "execution_count": 50,
   "metadata": {
    "scrolled": false
   },
   "outputs": [
    {
     "name": "stdout",
     "output_type": "stream",
     "text": [
      "(55000, 784)\n",
      "(55000, 10)\n",
      "[7 3 4 ..., 5 6 8]\n",
      "INFO:tensorflow:Using default config.\n",
      "INFO:tensorflow:Using config: {'_model_dir': '/tmp/tensorflow/mnist/logs/mnist_estimator', '_tf_random_seed': None, '_save_summary_steps': 100, '_save_checkpoints_steps': None, '_save_checkpoints_secs': 600, '_session_config': None, '_keep_checkpoint_max': 5, '_keep_checkpoint_every_n_hours': 10000, '_log_step_count_steps': 100, '_service': None, '_cluster_spec': <tensorflow.python.training.server_lib.ClusterSpec object at 0x000002450C002588>, '_task_type': 'worker', '_task_id': 0, '_master': '', '_is_chief': True, '_num_ps_replicas': 0, '_num_worker_replicas': 1}\n",
      "INFO:tensorflow:Create CheckpointSaverHook.\n",
      "INFO:tensorflow:Saving checkpoints for 1 into /tmp/tensorflow/mnist/logs/mnist_estimator\\model.ckpt.\n",
      "INFO:tensorflow:loss = 297.399, step = 1\n",
      "INFO:tensorflow:global_step/sec: 29.3263\n",
      "INFO:tensorflow:loss = 35.5202, step = 101 (3.421 sec)\n",
      "INFO:tensorflow:global_step/sec: 31.5173\n",
      "INFO:tensorflow:loss = 24.826, step = 201 (3.179 sec)\n",
      "INFO:tensorflow:global_step/sec: 32.0846\n",
      "INFO:tensorflow:loss = 16.488, step = 301 (3.113 sec)\n",
      "INFO:tensorflow:global_step/sec: 28.1025\n",
      "INFO:tensorflow:loss = 34.6286, step = 401 (3.551 sec)\n",
      "INFO:tensorflow:global_step/sec: 27.9951\n",
      "INFO:tensorflow:loss = 10.0966, step = 501 (3.573 sec)\n",
      "INFO:tensorflow:global_step/sec: 31.7076\n",
      "INFO:tensorflow:loss = 13.3557, step = 601 (3.159 sec)\n",
      "INFO:tensorflow:global_step/sec: 31.7542\n",
      "INFO:tensorflow:loss = 19.1869, step = 701 (3.151 sec)\n",
      "INFO:tensorflow:global_step/sec: 31.0701\n",
      "INFO:tensorflow:loss = 5.79136, step = 801 (3.223 sec)\n",
      "INFO:tensorflow:global_step/sec: 29.8083\n",
      "INFO:tensorflow:loss = 12.6546, step = 901 (3.354 sec)\n",
      "INFO:tensorflow:Saving checkpoints for 1000 into /tmp/tensorflow/mnist/logs/mnist_estimator\\model.ckpt.\n",
      "INFO:tensorflow:Loss for final step: 7.20594.\n"
     ]
    },
    {
     "data": {
      "text/plain": [
       "<tensorflow.python.estimator.canned.dnn.DNNClassifier at 0x2450c4cca20>"
      ]
     },
     "execution_count": 50,
     "metadata": {},
     "output_type": "execute_result"
    }
   ],
   "source": [
    "\n",
    "print(mnist.train.images.shape)\n",
    "print(mnist.train.labels.shape)\n",
    "print(np.argmax(mnist.train.labels, 1))\n",
    "# Define input function\n",
    "input_fn_train = tf.estimator.inputs.numpy_input_fn(\n",
    "                    x={\"x\": np.array(mnist.train.images)},\n",
    "                    y=np.argmax(mnist.train.labels, 1),\n",
    "                    num_epochs=None,\n",
    "                    shuffle=True)\n",
    "\n",
    "# Define feature columns\n",
    "feature_columns = [tf.feature_column.numeric_column(\"x\", shape=[784])]\n",
    "\n",
    "#Create classifier\n",
    "classifier = tf.estimator.DNNClassifier(feature_columns=feature_columns,\n",
    "                                        hidden_units=[1024, 512, 256],\n",
    "                                        n_classes = 10,\n",
    "                                        model_dir=\"/tmp/tensorflow/mnist/logs/mnist_estimator\")\n",
    "# Train classifier\n",
    "classifier.train(input_fn=input_fn_train, steps=1000)\n",
    "\n",
    "\n",
    "\n",
    "\n",
    "\n"
   ]
  },
  {
   "cell_type": "code",
   "execution_count": 54,
   "metadata": {},
   "outputs": [
    {
     "name": "stdout",
     "output_type": "stream",
     "text": [
      "INFO:tensorflow:Starting evaluation at 2017-12-26-17:35:46\n",
      "INFO:tensorflow:Restoring parameters from /tmp/tensorflow/mnist/logs/mnist_estimator\\model.ckpt-1000\n",
      "INFO:tensorflow:Finished evaluation at 2017-12-26-17:35:47\n",
      "INFO:tensorflow:Saving dict for global step 1000: accuracy = 0.9682, average_loss = 0.105192, global_step = 1000, loss = 13.3154\n",
      "0.9682\n",
      "INFO:tensorflow:Restoring parameters from /tmp/tensorflow/mnist/logs/mnist_estimator\\model.ckpt-1000\n",
      "[b'7']\n",
      "[b'2']\n",
      "[b'1']\n",
      "[b'0']\n",
      "[b'4']\n",
      "[b'1']\n",
      "[b'4']\n",
      "[b'9']\n",
      "[b'5']\n",
      "[b'9']\n",
      "New Samples, Class Predictions:    [array([b'7'], dtype=object), array([b'2'], dtype=object), array([b'1'], dtype=object), array([b'0'], dtype=object), array([b'4'], dtype=object), array([b'1'], dtype=object), array([b'4'], dtype=object), array([b'9'], dtype=object), array([b'5'], dtype=object), array([b'9'], dtype=object)]\n",
      "\n"
     ]
    }
   ],
   "source": [
    "# Define input function for test\n",
    "input_fn_test = tf.estimator.inputs.numpy_input_fn(\n",
    "                    x={\"x\": np.array(mnist.test.images)},\n",
    "                    y=np.argmax(mnist.test.labels, 1),\n",
    "                    num_epochs=1,\n",
    "                    shuffle=False)\n",
    "\n",
    "# Test accuracy\n",
    "accuracy = classifier.evaluate(input_fn=input_fn_test)[\"accuracy\"]\n",
    "print(accuracy)\n",
    "\n",
    "\n",
    "\n",
    "# Predicting some input\n",
    "input_fn_predict = tf.estimator.inputs.numpy_input_fn(x={\"x\": np.array(mnist.test.images[:10, :])},\n",
    "                                                      y=np.argmax(mnist.test.labels, 1)[:10],\n",
    "                                                     num_epochs=1,\n",
    "                                                     shuffle=False)\n",
    "predictions = list(classifier.predict(input_fn=input_fn_predict))\n",
    "predicted_classes = [p[\"classes\"] for p in predictions]\n",
    "\n",
    "for c in predicted_classes:\n",
    "    print(c)\n",
    "    "
   ]
  },
  {
   "cell_type": "code",
   "execution_count": null,
   "metadata": {
    "collapsed": true
   },
   "outputs": [],
   "source": []
  }
 ],
 "metadata": {
  "kernelspec": {
   "display_name": "Python 3",
   "language": "python",
   "name": "python3"
  },
  "language_info": {
   "codemirror_mode": {
    "name": "ipython",
    "version": 3
   },
   "file_extension": ".py",
   "mimetype": "text/x-python",
   "name": "python",
   "nbconvert_exporter": "python",
   "pygments_lexer": "ipython3",
   "version": "3.6.2"
  }
 },
 "nbformat": 4,
 "nbformat_minor": 2
}
