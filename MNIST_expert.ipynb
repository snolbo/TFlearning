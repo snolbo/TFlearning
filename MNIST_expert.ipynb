{
 "cells": [
  {
   "cell_type": "code",
   "execution_count": 2,
   "metadata": {},
   "outputs": [
    {
     "name": "stdout",
     "output_type": "stream",
     "text": [
      "Extracting MNIST_data\\train-images-idx3-ubyte.gz\n",
      "Extracting MNIST_data\\train-labels-idx1-ubyte.gz\n",
      "Extracting MNIST_data\\t10k-images-idx3-ubyte.gz\n",
      "Extracting MNIST_data\\t10k-labels-idx1-ubyte.gz\n"
     ]
    }
   ],
   "source": [
    "from tensorflow.examples.tutorials.mnist import input_data\n",
    "mnist = input_data.read_data_sets(\"MNIST_data\", one_hot=True)\n",
    "\n"
   ]
  },
  {
   "cell_type": "code",
   "execution_count": 9,
   "metadata": {},
   "outputs": [
    {
     "name": "stdout",
     "output_type": "stream",
     "text": [
      "0.9033\n"
     ]
    }
   ],
   "source": [
    "import tensorflow as tf\n",
    "\n",
    "\n",
    "\n",
    "# TF uses C++ backend to do computation, connection to backend is called session\n",
    "\n",
    "# IneractiveSession lets you interleave operations building and running the computation graph\n",
    "# When not using it, you must first build, then launching\n",
    "\n",
    "# SINGLE LAYER \n",
    "\n",
    "session = tf.InteractiveSession()\n",
    "feature_size = 784\n",
    "num_labels = 10\n",
    "# Input and output placeholder for computation graph\n",
    "x      = tf.placeholder(tf.float32, shape=[None, feature_size])\n",
    "y_true = tf.placeholder(tf.float32, shape=[None, num_labels])\n",
    "\n",
    "# Variables in the computation graph\n",
    "W = tf.Variable(tf.zeros([feature_size, num_labels]))\n",
    "b = tf.Variable(tf.zeros([num_labels]))\n",
    "\n",
    "\n",
    "# Initialize variables withing a session. Initialize all variables:\n",
    "session.run(tf.global_variables_initializer())\n",
    "\n",
    "# Define logits\n",
    "y_pred = tf.matmul(x, W) + b\n",
    "\n",
    "# Define the loss function\n",
    "loss = tf.nn.softmax_cross_entropy_with_logits(labels=y_true, logits=y_pred)\n",
    "\n",
    "# Get the optimizer for updating the computation graph\n",
    "optimizer = tf.train.GradientDescentOptimizer(0.5).minimize(loss)\n",
    "\n",
    "for i in range(1000):\n",
    "    x_batch, y_batch = mnist.train.next_batch(100)\n",
    "    optimizer.run(feed_dict={x: x_batch, y_true: y_batch})\n",
    "\n",
    "correct_predictions = tf.equal(tf.argmax(y_pred, 1), tf.argmax(y_true, 1))\n",
    "accuracy = tf.reduce_mean(tf.cast(correct_predictions, tf.float32))\n",
    "print(accuracy.eval(feed_dict={x: mnist.test.images, y_true: mnist.test.labels}))\n",
    "\n"
   ]
  },
  {
   "cell_type": "code",
   "execution_count": 27,
   "metadata": {},
   "outputs": [
    {
     "name": "stdout",
     "output_type": "stream",
     "text": [
      "Step 0, training accuracy: 0.05\n",
      "Step 100, training accuracy: 0.89\n",
      "Step 200, training accuracy: 0.89\n",
      "Step 300, training accuracy: 0.91\n",
      "Step 400, training accuracy: 0.95\n",
      "Step 500, training accuracy: 0.95\n",
      "Step 600, training accuracy: 0.93\n",
      "Step 700, training accuracy: 0.94\n",
      "Step 800, training accuracy: 0.96\n",
      "Step 900, training accuracy: 0.98\n",
      "Test accuracy 0.9723\n"
     ]
    }
   ],
   "source": [
    "\n",
    "# Multilayer convolutional network\n",
    "# Want convolution to compute 32 features for each 5x5 patch\n",
    "\n",
    "# Functions for creating weight and bias variables\n",
    "def weight_variable(shape):\n",
    "    initial = tf.truncated_normal(shape=shape, stddev=0.1)\n",
    "    return tf.Variable(initial)\n",
    "\n",
    "def bias_variable(shape):\n",
    "    initial = tf.constant(0.1, shape=shape)\n",
    "    return tf.Variable(initial)\n",
    "\n",
    "# functions to abstract the convolution and pooling operations\n",
    "def conv2d(x, W):\n",
    "    return tf.nn.conv2d(x, W, strides=[1, 1 ,1, 1], padding=\"SAME\")\n",
    "def max_pool_2x2(x):\n",
    "    return tf.nn.max_pool(x, ksize=[1, 2, 2, 1], strides=[1, 2, 2, 1], padding=\"SAME\")\n",
    "\n",
    "# Reshape input x to be 4D tensor with num_examples, width, height, channel_depth\n",
    "x_image = tf.reshape(x, [-1, 28, 28, 1])\n",
    "\n",
    "# First layer - convolutional\n",
    "W1 = weight_variable([5, 5, 1, 32]) # patch1, patch2, in depth, out depth\n",
    "b1 = bias_variable([32])\n",
    "\n",
    "conv1 = tf.nn.relu(conv2d(x_image, W1) + b1)\n",
    "pool1 = max_pool_2x2(conv1)\n",
    "\n",
    "# Second layer - convolutional\n",
    "W2 = weight_variable([5, 5, 32, 64])\n",
    "b2 = bias_variable([64])\n",
    "\n",
    "conv2 = tf.nn.relu(conv2d(pool1, W2) + b2)\n",
    "pool2 = max_pool_2x2(conv2)\n",
    "\n",
    "\n",
    "# Third layer - fully connected\n",
    "W3 = weight_variable([7 * 7 * 64, 1024])\n",
    "b3 = bias_variable([1024])\n",
    "\n",
    "# Transforming the 4D tensor to a 2D tensor, concatonating the width height and feature depth\n",
    "flatted = tf.reshape(pool2, [-1, 7 * 7* 64])\n",
    "FC1 = tf.nn.relu(tf.matmul(flatted, W3) + b3)\n",
    "\n",
    "# Layer 4 -  fully connected with dropout then to outputlayer\n",
    "# Dropout is useful to prevent overfitting, and shines the most in big graphs\n",
    "keep_prob = tf.placeholder(tf.float32)\n",
    "drop = tf.nn.dropout(FC1, keep_prob=keep_prob)\n",
    "\n",
    "W4 = weight_variable([1024, 10])\n",
    "b4 = bias_variable([10])\n",
    "\n",
    "y_pred = tf.matmul(drop, W4) + b\n",
    "\n",
    "\n",
    "\n",
    "# Train and evaluate\n",
    "# Will use ADAM optimizer, include keep_prob in feed_dict and log every 100th iteration\n",
    "loss = tf.nn.softmax_cross_entropy_with_logits(labels=y_true, logits=y_pred)\n",
    "optimizer = tf.train.AdamOptimizer(1e-4).minimize(loss)\n",
    "correct_prediction = tf.equal(tf.argmax(y_pred, 1), tf.argmax(y_true, 1))\n",
    "accuracy = tf.reduce_mean(tf.cast(correct_prediction, tf.float32))\n",
    "\n",
    "with tf.Session() as session:\n",
    "    session.run(tf.global_variables_initializer())\n",
    "    for i in range(1000):\n",
    "        x_batch, y_batch = mnist.train.next_batch(100)\n",
    "        if i % 100 == 0:\n",
    "            train_accuracy = accuracy.eval(feed_dict={x: x_batch, y_true: y_batch, keep_prob: 1.0})\n",
    "            print(\"Step %d, training accuracy: %g\" % (i, train_accuracy))\n",
    "        optimizer.run(feed_dict={x: x_batch, y_true: y_batch, keep_prob: 0.5})\n",
    "    print(\"Test accuracy %g\" % accuracy.eval(feed_dict={x: mnist.test.images, y_true: mnist.test.labels, keep_prob: 1.0}))\n",
    "            \n"
   ]
  },
  {
   "cell_type": "code",
   "execution_count": null,
   "metadata": {
    "collapsed": true
   },
   "outputs": [],
   "source": []
  }
 ],
 "metadata": {
  "kernelspec": {
   "display_name": "Python 3",
   "language": "python",
   "name": "python3"
  },
  "language_info": {
   "codemirror_mode": {
    "name": "ipython",
    "version": 3
   },
   "file_extension": ".py",
   "mimetype": "text/x-python",
   "name": "python",
   "nbconvert_exporter": "python",
   "pygments_lexer": "ipython3",
   "version": "3.6.2"
  }
 },
 "nbformat": 4,
 "nbformat_minor": 2
}
