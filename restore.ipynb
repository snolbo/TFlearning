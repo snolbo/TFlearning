{
 "cells": [
  {
   "cell_type": "code",
   "execution_count": 1,
   "metadata": {},
   "outputs": [
    {
     "name": "stdout",
     "output_type": "stream",
     "text": [
      "Extracting MNIST_data\\train-images-idx3-ubyte.gz\n",
      "Extracting MNIST_data\\train-labels-idx1-ubyte.gz\n",
      "Extracting MNIST_data\\t10k-images-idx3-ubyte.gz\n",
      "Extracting MNIST_data\\t10k-labels-idx1-ubyte.gz\n",
      "loaded data3\n"
     ]
    }
   ],
   "source": [
    "from tensorflow.examples.tutorials.mnist import input_data\n",
    "\n",
    "\n",
    "import tensorflow as tf\n",
    "import numpy as np\n",
    "\n",
    "mnist = input_data.read_data_sets(\"MNIST_data\", one_hot=True)\n",
    "print(\"loaded data3\")"
   ]
  },
  {
   "cell_type": "code",
   "execution_count": 16,
   "metadata": {
    "collapsed": true,
    "scrolled": false
   },
   "outputs": [],
   "source": [
    "tf.reset_default_graph()\n",
    "\n",
    "x = tf.placeholder(tf.float32, shape=[None, 784])\n",
    "y_true = tf.placeholder(tf.float32, shape=[None, 10])\n",
    "\n",
    "\n",
    "W1 = tf.Variable(tf.truncated_normal(shape=[784, 512], stddev=0.1), name=\"W1\")\n",
    "b1 = tf.Variable(tf.constant(0.1, shape=[512]), name=\"b1\")\n",
    "\n",
    "W2 = tf.Variable(tf.truncated_normal(shape=[512, 256], stddev=0.1), name=\"W2\")\n",
    "b2 = tf.Variable(tf.constant(0.1, shape=[256]), name=\"b2\")       \n",
    "\n",
    "W3 = tf.Variable(tf.truncated_normal(shape=[256, 10], stddev=0.1), name=\"W3\")\n",
    "b3 = tf.Variable(tf.constant(0.1, shape=[10]), name=\"b3\")"
   ]
  },
  {
   "cell_type": "code",
   "execution_count": 17,
   "metadata": {
    "collapsed": true
   },
   "outputs": [],
   "source": [
    "fc1 = tf.nn.relu(tf.matmul(x,   W1) + b1)\n",
    "fc2 = tf.nn.relu(tf.matmul(fc1, W2) + b2)\n",
    "fc3 =            tf.matmul(fc2, W3) + b3\n",
    "y_pred = fc3\n",
    "\n",
    "correct_predictions = tf.equal(tf.argmax(y_true, 1), tf.argmax(y_pred, 1))\n",
    "accuracy = tf.reduce_mean(tf.cast(correct_predictions, tf.float32))\n",
    "    "
   ]
  },
  {
   "cell_type": "code",
   "execution_count": 23,
   "metadata": {
    "scrolled": false
   },
   "outputs": [
    {
     "name": "stdout",
     "output_type": "stream",
     "text": [
      "INFO:tensorflow:Restoring parameters from /tmp/test_store/test_model.ckpt\n",
      "Accuracy: 0.9623\n"
     ]
    }
   ],
   "source": [
    "saver = tf.train.Saver()\n",
    "\n",
    "with tf.Session() as sess:\n",
    "    tf.global_variables_initializer().run()\n",
    "    # This restores the variables with name W1, b1, W2, ...\n",
    "    saver.restore(sess, \"/tmp/test_store/test_model.ckpt\")\n",
    "    acc = sess.run(accuracy, feed_dict={x: mnist.test.images, y_true: mnist.test.labels})\n",
    "    print(\"Accuracy: %s\" % acc)"
   ]
  },
  {
   "cell_type": "code",
   "execution_count": null,
   "metadata": {
    "collapsed": true
   },
   "outputs": [],
   "source": []
  },
  {
   "cell_type": "code",
   "execution_count": null,
   "metadata": {
    "collapsed": true
   },
   "outputs": [],
   "source": []
  }
 ],
 "metadata": {
  "kernelspec": {
   "display_name": "Python 3",
   "language": "python",
   "name": "python3"
  },
  "language_info": {
   "codemirror_mode": {
    "name": "ipython",
    "version": 3
   },
   "file_extension": ".py",
   "mimetype": "text/x-python",
   "name": "python",
   "nbconvert_exporter": "python",
   "pygments_lexer": "ipython3",
   "version": "3.6.2"
  }
 },
 "nbformat": 4,
 "nbformat_minor": 2
}
