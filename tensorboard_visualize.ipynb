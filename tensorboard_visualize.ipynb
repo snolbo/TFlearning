{
 "cells": [
  {
   "cell_type": "code",
   "execution_count": 1,
   "metadata": {},
   "outputs": [
    {
     "name": "stdout",
     "output_type": "stream",
     "text": [
      "Extracting MNIST_data\\train-images-idx3-ubyte.gz\n",
      "Extracting MNIST_data\\train-labels-idx1-ubyte.gz\n",
      "Extracting MNIST_data\\t10k-images-idx3-ubyte.gz\n",
      "Extracting MNIST_data\\t10k-labels-idx1-ubyte.gz\n",
      "loaded data3\n"
     ]
    }
   ],
   "source": [
    "from tensorflow.examples.tutorials.mnist import input_data\n",
    "mnist = input_data.read_data_sets(\"MNIST_data\", one_hot=True)\n",
    "print(\"loaded data3\")\n",
    "\n",
    "import tensorflow as tf\n",
    "import numpy as np\n",
    "sess = tf.InteractiveSession()\n"
   ]
  },
  {
   "cell_type": "code",
   "execution_count": 2,
   "metadata": {
    "collapsed": true
   },
   "outputs": [],
   "source": [
    "# abstracting functions\n",
    "\n",
    "def weight_variable(shape):\n",
    "    initial = tf.truncated_normal(shape, stddev=0.1)\n",
    "    return tf.Variable(initial)\n",
    "def bias_variable(shape):\n",
    "    initial = tf.constant(0.1, shape=shape)\n",
    "    return tf.Variable(initial)\n",
    "def conv2d(W, x):\n",
    "    return tf.nn.conv2d(input=x, filter=W, strides=[1, 1, 1, 1], padding=\"SAME\")\n",
    "def max_pool_2x2(x):\n",
    "    return tf.nn.max_pool(value=x, ksize=[1, 2, 2, 1], strides=[1, 2, 2, 1], padding=\"SAME\")\n",
    "\n",
    "def variable_summaries(var):\n",
    "    \"\"\"Attach a lot of summaries to a Tensor (for TensorBoard visualization).\"\"\"\n",
    "    with tf.name_scope(\"summaries\"):\n",
    "        mean = tf.reduce_mean(var)\n",
    "        tf.summary.scalar(\"mean\", mean)\n",
    "        with tf.name_scope(\"stddev\"):\n",
    "            stddev = tf.sqrt(tf.reduce_mean(tf.square(var-mean)))\n",
    "        tf.summary.scalar(\"stddev\", stddev)\n",
    "        tf.summary.histogram(\"histogram\", var)\n",
    "\n",
    "def fc_nn_layer(input_tensor, input_dim, output_dim, layer_name, act=tf.nn.relu):\n",
    "    \"\"\" creates a fully connected layer\"\"\"\n",
    "    with tf.name_scope(layer_name):\n",
    "        with tf.name_scope(\"weights\"):\n",
    "            weights = weight_variable([input_dim, output_dim])\n",
    "            variable_summaries(weights)\n",
    "            \n",
    "        with tf.name_scope(\"biases\"):\n",
    "            biases  = bias_variable([output_dim])\n",
    "            variable_summaries(biases)\n",
    "            \n",
    "        with tf.name_scope(\"Wx_plus_b\"):\n",
    "            preactivate = tf.matmul(input_tensor, weights) + biases\n",
    "            #tf.summary.histogram(\"pre_activations\", preactivate)\n",
    "            \n",
    "        activations = act(preactivate, name=\"activation\")\n",
    "        #tf.summary.histogram(\"activations\", activations)\n",
    "        return activations\n",
    "\n",
    "def conv_nn_layer(input_tensor, patch_size, input_depth, output_depth, layer_name, act=tf.nn.relu):\n",
    "    \"\"\" Create a convolutional layer and performs max pooling, halfing spatial dim\"\"\"\n",
    "    with tf.name_scope(layer_name):\n",
    "        with tf.name_scope(\"weights\"):\n",
    "            weights = weight_variable([patch_size, patch_size, input_depth, output_depth])\n",
    "            variable_summaries(weights)\n",
    "            \n",
    "        with tf.name_scope(\"biases\"):\n",
    "            biases = bias_variable([output_depth])\n",
    "            variable_summaries(biases)\n",
    "            \n",
    "        with tf.name_scope(\"conv\"):\n",
    "            conv = conv2d(weights, input_tensor)\n",
    "            #tf.summary.histogram(\"pre_activations\", conv)\n",
    "            \n",
    "    activations = act(conv, name=\"activation\")\n",
    "    #tf.summary.histogram(\"activations\", activations)\n",
    "    return tf.nn.max_pool(activations, ksize=[1, 2, 2, 1], strides=[1, 2, 2, 1], padding=\"SAME\")\n",
    "        \n",
    "        \n"
   ]
  },
  {
   "cell_type": "code",
   "execution_count": 3,
   "metadata": {},
   "outputs": [
    {
     "data": {
      "text/plain": [
       "<tf.Tensor 'accuracy_1:0' shape=() dtype=string>"
      ]
     },
     "execution_count": 3,
     "metadata": {},
     "output_type": "execute_result"
    }
   ],
   "source": [
    "# defining the computation graph\n",
    "\n",
    "num_steps = 2000\n",
    "\n",
    "with tf.name_scope(\"input\"):\n",
    "    x      = tf.placeholder(tf.float32, shape=[None, 784], name=\"x-input\")\n",
    "    y_true = tf.placeholder(tf.float32, shape=[None, 10],  name=\"y-input\")\n",
    "\n",
    "with tf.name_scope(\"input_reshape\"):\n",
    "    image_shaped_input = tf.reshape(x, [-1, 28, 28, 1])\n",
    "    tf.summary.image(\"input\", image_shaped_input, 10)\n",
    "\n",
    "\n",
    "# 2 convolutional layers with max pooling\n",
    "conv1 = conv_nn_layer(image_shaped_input, 5, 1, 30, \"conv1\")\n",
    "\n",
    "conv2 = conv_nn_layer(conv1, 5, 30, 60, \"conv2\")\n",
    "\n",
    "# reshape to let input fit fully connected layer\n",
    "shape = conv2.get_shape().as_list()\n",
    "dim = np.prod(shape[1:])\n",
    "reshape = tf.reshape(conv2, [-1, dim])\n",
    "\n",
    "    \n",
    "fc1 = fc_nn_layer(reshape, dim, 300, \"fc1\")\n",
    "\n",
    "with tf.name_scope(\"dropout1\"):\n",
    "    keep_prob1 = tf.placeholder(tf.float32)\n",
    "    dropped1 = tf.nn.dropout(fc1, keep_prob1, name=\"dropout1\")\n",
    "    \n",
    "fc2 = fc_nn_layer(dropped1, 300, 100, \"fc2\")\n",
    "\n",
    "with tf.name_scope(\"dropout2\"):\n",
    "    keep_prob2 = tf.placeholder(tf.float32)\n",
    "    dropped2 = tf.nn.dropout(fc2, keep_prob2, name=\"dropout2\")\n",
    "    \n",
    "y_pred = fc_nn_layer(dropped2, 100, 10, \"fc3\", act=tf.identity)\n",
    "\n",
    "\n",
    "\n",
    "with tf.name_scope(\"loss_function\"):\n",
    "    cross_entropy = tf.nn.softmax_cross_entropy_with_logits(labels=y_true, logits=y_pred)\n",
    "    loss = tf.reduce_mean(cross_entropy)\n",
    "    loss += 1e-5 * ( tf.nn.l2_loss(conv1) \n",
    "                   + tf.nn.l2_loss(conv2)\n",
    "                   + tf.nn.l2_loss(fc1)\n",
    "                   + tf.nn.l2_loss(fc2))\n",
    "tf.summary.scalar(\"loss\", loss)\n",
    "\n",
    "with tf.name_scope(\"learning_rate\"):\n",
    "    global_step = tf.Variable(0)\n",
    "    learning_rate = tf.train.exponential_decay(0.01, global_step, 500, 0.7)\n",
    "tf.summary.scalar(\"learning_rate\", learning_rate)\n",
    "\n",
    "with tf.name_scope(\"train\"):\n",
    "    optimizer = tf.train.AdamOptimizer(learning_rate)\n",
    "    train_step = optimizer.minimize(loss, global_step=global_step)\n",
    "\n",
    "with tf.name_scope(\"accuracy\"):\n",
    "    with tf.name_scope(\"correct_prediciton\"):\n",
    "        correct_prediction = tf.equal(tf.argmax(y_true, 1), tf.argmax(y_pred, 1))\n",
    "    with tf.name_scope(\"accuracy\"):\n",
    "        accuracy = tf.reduce_mean(tf.cast(correct_prediction, tf.float32))\n",
    "tf.summary.scalar(\"accuracy\", accuracy)\n"
   ]
  },
  {
   "cell_type": "code",
   "execution_count": 4,
   "metadata": {
    "collapsed": true
   },
   "outputs": [],
   "source": [
    "# Merge all summaries and write them to tmp/tensorflow/mnist/logs/mnist_with_summaries\n",
    "path = \"C:/tmp/tensorflow/mnist/logs/mnist_with_summaries\"\n",
    "merged = tf.summary.merge_all()\n",
    "train_writer = tf.summary.FileWriter(path + \"/train\", sess.graph)\n",
    "test_writer  = tf.summary.FileWriter(path + \"/test\",  sess.graph)\n",
    "tf.global_variables_initializer().run()"
   ]
  },
  {
   "cell_type": "code",
   "execution_count": 5,
   "metadata": {
    "scrolled": false
   },
   "outputs": [
    {
     "name": "stdout",
     "output_type": "stream",
     "text": [
      "Accuracy at step 0: 0.0472\n",
      "Accuracy at step 100: 0.9611\n",
      "Accuracy at step 200: 0.9754\n",
      "Accuracy at step 300: 0.9759\n",
      "Accuracy at step 400: 0.9768\n",
      "Accuracy at step 500: 0.9805\n",
      "Accuracy at step 600: 0.9825\n",
      "Accuracy at step 700: 0.9818\n",
      "Accuracy at step 800: 0.9798\n",
      "Accuracy at step 900: 0.983\n",
      "Accuracy at step 1000: 0.9839\n",
      "Accuracy at step 1100: 0.9854\n",
      "Accuracy at step 1200: 0.988\n",
      "Accuracy at step 1300: 0.9894\n",
      "Accuracy at step 1400: 0.9863\n",
      "Accuracy at step 1500: 0.9882\n",
      "Accuracy at step 1600: 0.9872\n",
      "Accuracy at step 1700: 0.9882\n",
      "Accuracy at step 1800: 0.9883\n",
      "Accuracy at step 1900: 0.9881\n"
     ]
    }
   ],
   "source": [
    "for i in range(num_steps):\n",
    "    if i % 100 == 0: #record summaries and test_set accuracy\n",
    "        feed_dict = {x: mnist.test.images, y_true: mnist.test.labels, keep_prob1: 1.0, keep_prob2: 1.0}\n",
    "        summary, acc = sess.run([merged, accuracy], feed_dict=feed_dict)\n",
    "        test_writer.add_summary(summary, i)\n",
    "        print('Accuracy at step %s: %s' % (i, acc))\n",
    "    \n",
    "    x_batch, y_batch = mnist.train.next_batch(100)\n",
    "    feed_dict = {x: x_batch, y_true: y_batch, keep_prob1: 0.5, keep_prob2: 0.5}\n",
    "    summary, _ = sess.run([merged, train_step], feed_dict=feed_dict)\n",
    "    train_writer.add_summary(summary, i)\n",
    "        \n",
    "train_writer.close()\n",
    "test_writer.close()"
   ]
  },
  {
   "cell_type": "code",
   "execution_count": null,
   "metadata": {
    "collapsed": true
   },
   "outputs": [],
   "source": []
  }
 ],
 "metadata": {
  "kernelspec": {
   "display_name": "Python 3",
   "language": "python",
   "name": "python3"
  },
  "language_info": {
   "codemirror_mode": {
    "name": "ipython",
    "version": 3
   },
   "file_extension": ".py",
   "mimetype": "text/x-python",
   "name": "python",
   "nbconvert_exporter": "python",
   "pygments_lexer": "ipython3",
   "version": "3.6.2"
  }
 },
 "nbformat": 4,
 "nbformat_minor": 2
}
